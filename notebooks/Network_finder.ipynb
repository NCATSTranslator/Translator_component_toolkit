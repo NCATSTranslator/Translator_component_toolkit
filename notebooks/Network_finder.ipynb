{
 "cells": [
  {
   "cell_type": "code",
   "execution_count": 1,
   "metadata": {},
   "outputs": [],
   "source": [
    "# This notebook is used to find a network from a list of nodes in Translator"
   ]
  },
  {
   "cell_type": "code",
   "execution_count": 1,
   "metadata": {},
   "outputs": [],
   "source": [
    "import sys\n",
    "sys.path.append('../TCT')\n",
    "import TCT as TCT\n",
    "import seaborn as sns\n",
    "import matplotlib.pyplot as plt\n",
    "import pandas as pd\n"
   ]
  },
  {
   "cell_type": "code",
   "execution_count": 2,
   "metadata": {},
   "outputs": [
    {
     "name": "stdout",
     "output_type": "stream",
     "text": [
      "Skipping server without x-maturity: {'description': 'Production server', 'url': 'https://smart-api.info/api'}\n",
      "Skipping server without x-maturity: {'description': 'Development server', 'url': 'https://dev.smart-api.info/api'}\n",
      "SmartAPI API\n",
      "Skipping server without production, staging or testing: {'description': 'Development server', 'url': 'https://dev.smart-api.info/api'}\n",
      "Skipping server without x-maturity: {'description': 'Staging server', 'url': 'http://biothings.test.transltr.io/annotator'}\n",
      "Skipping server without x-maturity: {'description': 'CI server', 'url': 'http://biothings.ci.transltr.io/annotator'}\n",
      "98\n"
     ]
    }
   ],
   "source": [
    "# Step1: List all the APIs in the translator system\n",
    "Translator_KP_info,APInames= TCT.get_SmartAPI_Translator_KP_info()\n",
    "#Translator_KP_info.to_csv('SmartAPI_Translator_KP_info.csv', index=False)\n",
    "print(len(Translator_KP_info))"
   ]
  },
  {
   "cell_type": "code",
   "execution_count": 3,
   "metadata": {},
   "outputs": [],
   "source": [
    "# Step 2: Get metaKG and all predicates from Translator APIs\n",
    "metaKG = TCT.get_KP_metadata(APInames) # This only applies to the Translator APIs\n",
    "#print(metaKG.columns)\n",
    "#print(metaKG.shape)\n",
    "\n",
    "#metaKG.to_csv('../metaData/metaKG.csv', index=False)\n",
    "#metaKG = pd.read_csv('../metaData/metaKG.csv')\n",
    "All_predicates = list(set(metaKG['KG_category']))"
   ]
  },
  {
   "cell_type": "code",
   "execution_count": 4,
   "metadata": {},
   "outputs": [
    {
     "name": "stdout",
     "output_type": "stream",
     "text": [
      "all relevant predicates in Translator:\n",
      "['biolink:genetically_associated_with', 'biolink:genetic_association', 'biolink:genetically_interacts_with', 'biolink:physically_interacts_with', 'biolink:interacts_with', 'biolink:directly_physically_interacts_with', 'biolink:binds']\n",
      "all relevant APIs in Translator:\n",
      "['MyGene.info API', 'Translator Annotation Service', 'SPOKE KP for TRAPI 1.5', 'Automat-hetionet(Trapi v1.5.0)', 'BioThings SEMMEDDB API', 'BioThings Explorer (BTE) TRAPI', 'Automat-monarchinitiative(Trapi v1.5.0)', 'BioThings InnateDB API', 'Monarch API', 'Connections Hypothesis Provider API', 'MolePro', 'PharmGKB REST API', 'Automat-cam-kp(Trapi v1.5.0)', 'Automat-genome-alliance(Trapi v1.5.0)', 'imProving Agent for TRAPI 1.5', 'Text Mining Targeted Association API', 'Automat-pharos(Trapi v1.5.0)', 'Automat-robokop(Trapi v1.5.0)', 'Service Provider TRAPI', 'Multiomics BigGIM-DrugResponse KP API', 'Automat-ehr-may-treat-kp(Trapi v1.5.0)', 'Automat-icees-kg(Trapi v1.5.0)']\n",
      "22\n"
     ]
    }
   ],
   "source": [
    "# Step 3: set input parameters\n",
    "\n",
    "# Node1 for query\n",
    "#input_node1 = 'NPM1'\n",
    "#input_node1_id = TCT.get_curie(input_node1)\n",
    "#print(input_node1_id)\n",
    "input_node1_list = [TCT.get_curie('NPM1'), TCT.get_curie('FLT3'), TCT.get_curie('NRAS'), TCT.get_curie('BCL2')]\n",
    "input_node1_category = ['biolink:Gene'] # Node: this has to be in a format of biolink:xxx\n",
    "\n",
    "#Node2 for query\n",
    "input_node2_list = []\n",
    "input_node2_category = ['biolink:Gene']\n",
    "\n",
    "\n",
    "# Get all predicates for the input node1 and node2, user can furter select the predicates among this list\n",
    "sele_predicates = list(set(TCT.select_concept(sub_list=input_node1_category,obj_list=input_node2_category,metaKG=metaKG)))\n",
    "sele_predicates = ['biolink:genetically_associated_with', 'biolink:genetic_association', \n",
    "                   'biolink:genetically_interacts_with', 'biolink:physically_interacts_with',\n",
    "                   'biolink:interacts_with',  'biolink:directly_physically_interacts_with','biolink:binds', ]\n",
    "print(\"all relevant predicates in Translator:\")\n",
    "print(sele_predicates)\n",
    "# select predicates\n",
    "\n",
    "# Get all APIs for the input node1 and node2, user can furter select the APIs among this list\n",
    "sele_APIs = TCT.select_API(sub_list=input_node1_category,obj_list=input_node2_category,metaKG=metaKG)\n",
    "print(\"all relevant APIs in Translator:\")\n",
    "print(sele_APIs)\n",
    "print(len(sele_APIs))\n",
    "\n",
    "#sele_APIs = ['Multiomics BigGIM-DrugResponse KP API']\n",
    "sele_APIs = sele_APIs\n",
    "# get API URLs : two options: filter by API names or filter by predicates\n",
    "API_URLs = TCT.get_Translator_API_URL(sele_APIs, \n",
    "                                      APInames)"
   ]
  },
  {
   "cell_type": "code",
   "execution_count": 5,
   "metadata": {},
   "outputs": [
    {
     "data": {
      "text/plain": [
       "22"
      ]
     },
     "execution_count": 5,
     "metadata": {},
     "output_type": "execute_result"
    }
   ],
   "source": [
    "len(API_URLs)"
   ]
  },
  {
   "cell_type": "code",
   "execution_count": 7,
   "metadata": {},
   "outputs": [],
   "source": [
    "#URLS_sele = filter_APIs(sele_predicates, metaKG)"
   ]
  },
  {
   "cell_type": "code",
   "execution_count": 6,
   "metadata": {},
   "outputs": [],
   "source": [
    "# Step 4: Format query json\n",
    "query_json = TCT.format_query_json(input_node1_list,  # a list of identifiers for input node1\n",
    "                                   input_node2_list,  # it can be empty list if only want to query node1\n",
    "                                   input_node1_category,  # a list of categories of input node1\n",
    "                                   input_node2_category,  # a list of categories of input node2\n",
    "                                   sele_predicates) # a list of predicates\n"
   ]
  },
  {
   "cell_type": "code",
   "execution_count": 7,
   "metadata": {},
   "outputs": [
    {
     "name": "stdout",
     "output_type": "stream",
     "text": [
      "Warning Code:404:https://api.pharmgkb.org/v1/query/\n",
      "Warning Code:404:https://api-v3.monarchinitiative.org/query/\n",
      "Warning Code:400:https://mygene.info/v3/query/\n",
      "Warning Code:404:https://spokekp.transltr.io/api/v1.5/query/\n",
      "Warning Code:404:https://molepro-trapi.transltr.io/molepro/trapi/v1.5/query/\n",
      "Warning Code:404:https://ia.transltr.io/api/v1.5/query/\n",
      "Warning Code:422:https://automat.transltr.io/icees-kg/query/\n",
      "Warning Code:422:https://automat.renci.org/ehr-may-treat-kp/query/\n",
      "Success!https://chp-api.transltr.io/query/Warning Code:422:https://automat.transltr.io/genome-alliance/query/\n",
      "\n",
      "Success!https://automat.transltr.io/monarch-kg/query/\n",
      "Success!https://automat.transltr.io/cam-kp/query/\n",
      "Success!https://automat.transltr.io/pharos/query/\n",
      "Warning Code:400:https://biothings.ncats.io/semmeddb/query/\n",
      "Warning Code:400:https://biothings.ncats.io/annotator/query/\n",
      "Warning Code:400:https://biothings.ncats.io/text_mining_targeted_association/query/\n",
      "Warning Code:400:https://biothings.ncats.io/biggim_drugresponse_kp/query/\n",
      "Warning Code:400:https://biothings.ncats.io/innatedb/query/\n",
      "Success!https://bte.transltr.io/v1/team/Service%20Provider/query/\n",
      "Success!https://automat.transltr.io/hetio/query/\n",
      "Success!https://automat.transltr.io/robokopkg/query/\n",
      "Success!https://bte.transltr.io/v1/query/\n"
     ]
    }
   ],
   "source": [
    "# Step 5: Query Translator APIs and parse results\n",
    "result = TCT.parallel_api_query(API_URLs,query_json=query_json, max_workers=len(API_URLs))\n"
   ]
  },
  {
   "cell_type": "code",
   "execution_count": 11,
   "metadata": {},
   "outputs": [],
   "source": [
    "#result"
   ]
  },
  {
   "cell_type": "code",
   "execution_count": 8,
   "metadata": {},
   "outputs": [],
   "source": [
    "result_df = TCT.parse_network_result(result, input_node1_list)"
   ]
  },
  {
   "cell_type": "code",
   "execution_count": 9,
   "metadata": {},
   "outputs": [
    {
     "data": {
      "application/vnd.jupyter.widget-view+json": {
       "model_id": "898709e959a2400387239234f1404dd0",
       "version_major": 2,
       "version_minor": 0
      },
      "text/plain": [
       "CytoscapeWidget(cytoscape_layout={'name': 'cola', 'title': 'Path', 'nodeSpacing': 80, 'edgeLengthVal': 50}, cy…"
      ]
     },
     "metadata": {},
     "output_type": "display_data"
    },
    {
     "data": {
      "text/html": [
       "<div>\n",
       "<style scoped>\n",
       "    .dataframe tbody tr th:only-of-type {\n",
       "        vertical-align: middle;\n",
       "    }\n",
       "\n",
       "    .dataframe tbody tr th {\n",
       "        vertical-align: top;\n",
       "    }\n",
       "\n",
       "    .dataframe thead th {\n",
       "        text-align: right;\n",
       "    }\n",
       "</style>\n",
       "<table border=\"1\" class=\"dataframe\">\n",
       "  <thead>\n",
       "    <tr style=\"text-align: right;\">\n",
       "      <th></th>\n",
       "      <th>Subject</th>\n",
       "      <th>Object</th>\n",
       "      <th>Predicates</th>\n",
       "      <th>Subject_name</th>\n",
       "      <th>Object_name</th>\n",
       "    </tr>\n",
       "  </thead>\n",
       "  <tbody>\n",
       "    <tr>\n",
       "      <th>0</th>\n",
       "      <td>NCBIGene:3320</td>\n",
       "      <td>NCBIGene:4869</td>\n",
       "      <td>genetically_interacts_with::infores:hetionet</td>\n",
       "      <td>HSP90AA1</td>\n",
       "      <td>NPM1</td>\n",
       "    </tr>\n",
       "    <tr>\n",
       "      <th>1</th>\n",
       "      <td>NCBIGene:4869</td>\n",
       "      <td>NCBIGene:3320</td>\n",
       "      <td>genetically_interacts_with::infores:hetionet</td>\n",
       "      <td>NPM1</td>\n",
       "      <td>HSP90AA1</td>\n",
       "    </tr>\n",
       "    <tr>\n",
       "      <th>2</th>\n",
       "      <td>NCBIGene:4869</td>\n",
       "      <td>NCBIGene:3320</td>\n",
       "      <td>physically_interacts_with::infores:biogrid</td>\n",
       "      <td>NPM1</td>\n",
       "      <td>HSP90AA1</td>\n",
       "    </tr>\n",
       "    <tr>\n",
       "      <th>3</th>\n",
       "      <td>NCBIGene:4869</td>\n",
       "      <td>NCBIGene:3320</td>\n",
       "      <td>regulates::infores:text-mining-provider-targeted</td>\n",
       "      <td>NPM1</td>\n",
       "      <td>HSP90AA1</td>\n",
       "    </tr>\n",
       "    <tr>\n",
       "      <th>4</th>\n",
       "      <td>NCBIGene:4869</td>\n",
       "      <td>NCBIGene:3320</td>\n",
       "      <td>interacts_with::infores:biogrid</td>\n",
       "      <td>NPM1</td>\n",
       "      <td>HSP90AA1</td>\n",
       "    </tr>\n",
       "    <tr>\n",
       "      <th>5</th>\n",
       "      <td>NCBIGene:2322</td>\n",
       "      <td>NCBIGene:3320</td>\n",
       "      <td>interacts_with::infores:biogrid</td>\n",
       "      <td>FLT3</td>\n",
       "      <td>HSP90AA1</td>\n",
       "    </tr>\n",
       "    <tr>\n",
       "      <th>6</th>\n",
       "      <td>NCBIGene:2322</td>\n",
       "      <td>NCBIGene:3320</td>\n",
       "      <td>physically_interacts_with::infores:biogrid</td>\n",
       "      <td>FLT3</td>\n",
       "      <td>HSP90AA1</td>\n",
       "    </tr>\n",
       "  </tbody>\n",
       "</table>\n",
       "</div>"
      ],
      "text/plain": [
       "         Subject         Object  \\\n",
       "0  NCBIGene:3320  NCBIGene:4869   \n",
       "1  NCBIGene:4869  NCBIGene:3320   \n",
       "2  NCBIGene:4869  NCBIGene:3320   \n",
       "3  NCBIGene:4869  NCBIGene:3320   \n",
       "4  NCBIGene:4869  NCBIGene:3320   \n",
       "5  NCBIGene:2322  NCBIGene:3320   \n",
       "6  NCBIGene:2322  NCBIGene:3320   \n",
       "\n",
       "                                         Predicates Subject_name Object_name  \n",
       "0      genetically_interacts_with::infores:hetionet     HSP90AA1        NPM1  \n",
       "1      genetically_interacts_with::infores:hetionet         NPM1    HSP90AA1  \n",
       "2        physically_interacts_with::infores:biogrid         NPM1    HSP90AA1  \n",
       "3  regulates::infores:text-mining-provider-targeted         NPM1    HSP90AA1  \n",
       "4                   interacts_with::infores:biogrid         NPM1    HSP90AA1  \n",
       "5                   interacts_with::infores:biogrid         FLT3    HSP90AA1  \n",
       "6        physically_interacts_with::infores:biogrid         FLT3    HSP90AA1  "
      ]
     },
     "execution_count": 9,
     "metadata": {},
     "output_type": "execute_result"
    }
   ],
   "source": [
    "TCT.visulize_path(TCT.get_curie(\"NPM1\"), \"NCBIGene:3320\", TCT.get_curie(\"FLT3\"), result, result)"
   ]
  },
  {
   "cell_type": "code",
   "execution_count": 13,
   "metadata": {},
   "outputs": [],
   "source": [
    "# results can be visualized in cytoscpe or networkx"
   ]
  },
  {
   "cell_type": "code",
   "execution_count": 14,
   "metadata": {},
   "outputs": [],
   "source": [
    "#TCT.plot_graph_by_predicates(result_df)"
   ]
  }
 ],
 "metadata": {
  "kernelspec": {
   "display_name": "3.12.1",
   "language": "python",
   "name": "python3"
  },
  "language_info": {
   "codemirror_mode": {
    "name": "ipython",
    "version": 3
   },
   "file_extension": ".py",
   "mimetype": "text/x-python",
   "name": "python",
   "nbconvert_exporter": "python",
   "pygments_lexer": "ipython3",
   "version": "3.12.1"
  }
 },
 "nbformat": 4,
 "nbformat_minor": 4
}
