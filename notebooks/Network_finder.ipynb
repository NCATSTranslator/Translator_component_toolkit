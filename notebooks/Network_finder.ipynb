{
 "cells": [
  {
   "cell_type": "code",
   "execution_count": null,
   "metadata": {},
   "outputs": [],
   "source": [
    "# This notebook is used to find a network from a list of nodes in Translator"
   ]
  },
  {
   "cell_type": "code",
   "execution_count": null,
   "metadata": {},
   "outputs": [],
   "source": [
    "import sys\n",
    "sys.path.append('../src')\n",
    "import TCT as TCT\n",
    "import seaborn as sns\n",
    "import matplotlib.pyplot as plt\n",
    "import pandas as pd\n"
   ]
  },
  {
   "cell_type": "code",
   "execution_count": null,
   "metadata": {},
   "outputs": [],
   "source": [
    "# Step1: List all the APIs in the translator system\n",
    "APInames = TCT.list_Translator_APIs()\n",
    "print(len(APInames))\n",
    "print(list(APInames.keys()))"
   ]
  },
  {
   "cell_type": "code",
   "execution_count": null,
   "metadata": {},
   "outputs": [],
   "source": [
    "# Step 2: Get metaKG and all predicates from Translator APIs\n",
    "#metaKG = TCT.get_KP_metadata(APInames) # This only applies to the Translator APIs\n",
    "#print(metaKG.columns)\n",
    "#print(metaKG.shape)\n",
    "\n",
    "#metaKG.to_csv('../metaData/metaKG.csv', index=False)\n",
    "metaKG = pd.read_csv('../metaData/metaKG.csv')\n",
    "All_predicates = list(set(metaKG['KG_category']))"
   ]
  },
  {
   "cell_type": "code",
   "execution_count": null,
   "metadata": {},
   "outputs": [],
   "source": [
    "# Step 3: set input parameters\n",
    "\n",
    "# Node1 for query\n",
    "#input_node1 = 'NPM1'\n",
    "#input_node1_id = TCT.get_curie(input_node1)\n",
    "#print(input_node1_id)\n",
    "input_node1_list = [TCT.get_curie('NPM1'), TCT.get_curie('FLT3'), TCT.get_curie('NRAS'), TCT.get_curie('BCL2')]\n",
    "input_node1_category = ['biolink:Gene'] # Node: this has to be in a format of biolink:xxx\n",
    "\n",
    "#Node2 for query\n",
    "input_node2_list = []\n",
    "input_node2_category = ['biolink:Gene']\n",
    "\n",
    "\n",
    "# Get all predicates for the input node1 and node2, user can furter select the predicates among this list\n",
    "sele_predicates = list(set(TCT.select_concept(sub_list=input_node1_category,obj_list=input_node2_category,metaKG=metaKG)))\n",
    "sele_predicates = ['biolink:genetically_associated_with', 'biolink:genetic_association', \n",
    "                   'biolink:genetically_interacts_with', 'biolink:physically_interacts_with',\n",
    "                   'biolink:interacts_with',  'biolink:directly_physically_interacts_with','biolink:binds', ]\n",
    "print(\"all relevant predicates in Translator:\")\n",
    "print(sele_predicates)\n",
    "# select predicates\n",
    "\n",
    "# Get all APIs for the input node1 and node2, user can furter select the APIs among this list\n",
    "sele_APIs = TCT.select_API(sub_list=input_node1_category,obj_list=input_node2_category,metaKG=metaKG)\n",
    "print(\"all relevant APIs in Translator:\")\n",
    "print(sele_APIs)\n",
    "print(len(sele_APIs))\n",
    "\n",
    "sele_APIs = ['Multiomics BigGIM-DrugResponse KP API']\n",
    "\n",
    "# get API URLs : two options: filter by API names or filter by predicates\n",
    "API_URLs = TCT.get_Translator_API_URL(sele_APIs, \n",
    "                                      APInames)"
   ]
  },
  {
   "cell_type": "code",
   "execution_count": null,
   "metadata": {},
   "outputs": [],
   "source": [
    "len(API_URLs)"
   ]
  },
  {
   "cell_type": "code",
   "execution_count": null,
   "metadata": {},
   "outputs": [],
   "source": [
    "#URLS_sele = filter_APIs(sele_predicates, metaKG)"
   ]
  },
  {
   "cell_type": "code",
   "execution_count": null,
   "metadata": {},
   "outputs": [],
   "source": [
    "# Step 4: Format query json\n",
    "query_json = TCT.format_query_json(input_node1_list,  # a list of identifiers for input node1\n",
    "                                   input_node2_list,  # it can be empty list if only want to query node1\n",
    "                                   input_node1_category,  # a list of categories of input node1\n",
    "                                   input_node2_category,  # a list of categories of input node2\n",
    "                                   sele_predicates) # a list of predicates\n"
   ]
  },
  {
   "cell_type": "code",
   "execution_count": null,
   "metadata": {},
   "outputs": [],
   "source": [
    "# Step 5: Query Translator APIs and parse results\n",
    "result = TCT.parallel_api_query(API_URLs,query_json=query_json, max_workers=len(API_URLs))\n"
   ]
  },
  {
   "cell_type": "code",
   "execution_count": null,
   "metadata": {},
   "outputs": [],
   "source": [
    "len(result)"
   ]
  },
  {
   "cell_type": "code",
   "execution_count": null,
   "metadata": {},
   "outputs": [],
   "source": [
    "result_df = TCT.parse_network_result(result, input_node1_list)"
   ]
  },
  {
   "cell_type": "code",
   "execution_count": null,
   "metadata": {},
   "outputs": [],
   "source": [
    "result_df['Predicate'] = ['test']*result_df.shape[0]"
   ]
  },
  {
   "cell_type": "code",
   "execution_count": null,
   "metadata": {},
   "outputs": [],
   "source": [
    "result_df"
   ]
  },
  {
   "cell_type": "code",
   "execution_count": null,
   "metadata": {},
   "outputs": [],
   "source": [
    "# results can be visualized in cytoscpe or networkx"
   ]
  },
  {
   "cell_type": "code",
   "execution_count": null,
   "metadata": {},
   "outputs": [],
   "source": [
    "#TCT.plot_graph_by_predicates(result_df)"
   ]
  }
 ],
 "metadata": {
  "kernelspec": {
   "display_name": "Python 3",
   "language": "python",
   "name": "python3"
  },
  "language_info": {
   "codemirror_mode": {
    "name": "ipython",
    "version": 3
   },
   "file_extension": ".py",
   "mimetype": "text/x-python",
   "name": "python",
   "nbconvert_exporter": "python",
   "pygments_lexer": "ipython3",
   "version": "3.10.0"
  },
  "orig_nbformat": 4
 },
 "nbformat": 4,
 "nbformat_minor": 2
}
