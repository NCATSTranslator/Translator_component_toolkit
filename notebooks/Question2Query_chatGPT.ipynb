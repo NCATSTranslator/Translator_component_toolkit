{
 "cells": [
  {
   "cell_type": "code",
   "execution_count": 15,
   "metadata": {},
   "outputs": [],
   "source": [
    "import sys\n",
    "sys.path.append('../src')\n",
    "import TCT as TCT\n",
    "import seaborn as sns\n",
    "import matplotlib.pyplot as plt\n",
    "import pandas as pd\n"
   ]
  },
  {
   "cell_type": "code",
   "execution_count": 16,
   "metadata": {},
   "outputs": [
    {
     "name": "stdout",
     "output_type": "stream",
     "text": [
      "65\n"
     ]
    }
   ],
   "source": [
    "# Step1: List all the APIs in the translator system\n",
    "APInames = TCT.list_Translator_APIs()\n",
    "print(len(APInames))\n",
    "#print(APInames.keys())"
   ]
  },
  {
   "cell_type": "code",
   "execution_count": 17,
   "metadata": {},
   "outputs": [],
   "source": [
    "# Step 2: Get metaKG from Translator APIs\n",
    "metaKG = TCT.get_KP_metadata(APInames) # This only applies to the Translator APIs\n",
    "print(metaKG.columns)\n",
    "print(metaKG.shape)\n",
    "\n",
    "#metaKG.to_csv('../metaData/metaKG.csv', index=False)\n",
    "metaKG = pd.read_csv('../metaData/metaKG.csv')\n",
    "All_predicates = list(set(metaKG['KG_category']))"
   ]
  },
  {
   "cell_type": "code",
   "execution_count": 18,
   "metadata": {},
   "outputs": [],
   "source": [
    "query_json_temp = {\n",
    "        \"message\": {\n",
    "            \"query_graph\": {\n",
    "                \"nodes\": {\n",
    "                    \"n0\": {\n",
    "                        \"ids\":[],\n",
    "                        \"categories\":[\"biolink:category\"]\n",
    "                    },\n",
    "                    \"n1\": {\n",
    "                        \"categories\":[\"biolink:category\"]\n",
    "                }\n",
    "                },\n",
    "                \"edges\": {\n",
    "                    \"e1\": {\n",
    "                        \"subject\": \"n0\",\n",
    "                        \"object\": \"n1\",\n",
    "                        \"predicates\": [\"biolink:predicates\"]\n",
    "                    }\n",
    "                }\n",
    "            }\n",
    "        }\n",
    "    }"
   ]
  },
  {
   "cell_type": "code",
   "execution_count": 19,
   "metadata": {},
   "outputs": [],
   "source": [
    "KG_category = list(set( list(metaKG['Subject'].unique()) + list(metaKG['Object'].unique())))\n",
    "\n",
    "KG_predicates = list(metaKG['KG_category'].unique())\n"
   ]
  },
  {
   "cell_type": "code",
   "execution_count": 20,
   "metadata": {},
   "outputs": [],
   "source": [
    "question1 = \"What genes or proteins interact with gene KRAS?\"  #success\n",
    "\n",
    "question = question1\n"
   ]
  },
  {
   "cell_type": "code",
   "execution_count": 21,
   "metadata": {},
   "outputs": [],
   "source": [
    "query_json = str(query_json_temp)\n",
    "\n",
    "ALL_predicates = ','.join(list(set(KG_predicates)))\n",
    "\n",
    "ALL_categories = ','.join(list(set(KG_category)))\n",
    "\n",
    "input_text = \"We know the avaiable predicates in the KG are: \" + ALL_predicates + \". We also know the avaiable categories in the KGs are \"+ ALL_categories +\". We also know a TRAPI message temple is \" +query_json+ \". With the question of \" + question + \" What is the json format of message to represent this question? The following rules for the output: 1) The result must be just a json format with the same structure with template; 2)categories should be replaced from the categories in the KG; 3)predicts can be replaced from the predicates in the KG; 4) can use the name to fill the ids; 4)the output must start with '{' and end with '}', and be a standard json format.  At least one ids should be given and No annotations are needed!\"\n"
   ]
  },
  {
   "cell_type": "code",
   "execution_count": 22,
   "metadata": {},
   "outputs": [],
   "source": [
    "import openai\n",
    "import json\n",
    "confi = json.loads(open(\"confidential_key.json\").read())\n",
    "openai.organization = confi['Organization']\n",
    "openai.api_key = confi['API_key']\n"
   ]
  },
  {
   "cell_type": "code",
   "execution_count": 23,
   "metadata": {},
   "outputs": [
    {
     "name": "stdout",
     "output_type": "stream",
     "text": [
      "20\n"
     ]
    },
    {
     "data": {
      "text/plain": [
       "'{\"message\": {\"query_graph\": {\"nodes\": {\"n0\": {\"ids\": [\"KRAS\"], \"categories\": [\"biolink:Gene\"]}, \"n1\": {\"categories\": [\"biolink:Protein\", \"biolink:Gene\"]}}, \"edges\": {\"e1\": {\"subject\": \"n0\", \"object\": \"n1\", \"predicates\": [\"biolink:interacts_with\"]}}}}}'"
      ]
     },
     "execution_count": 23,
     "metadata": {},
     "output_type": "execute_result"
    }
   ],
   "source": [
    "query_json_byGPT = TCT.query_chatGPT(input_text)\n",
    "\n",
    "query_json_byGPT"
   ]
  }
 ],
 "metadata": {
  "kernelspec": {
   "display_name": "Python 3",
   "language": "python",
   "name": "python3"
  },
  "language_info": {
   "codemirror_mode": {
    "name": "ipython",
    "version": 3
   },
   "file_extension": ".py",
   "mimetype": "text/x-python",
   "name": "python",
   "nbconvert_exporter": "python",
   "pygments_lexer": "ipython3",
   "version": "3.10.0"
  },
  "orig_nbformat": 4
 },
 "nbformat": 4,
 "nbformat_minor": 2
}
