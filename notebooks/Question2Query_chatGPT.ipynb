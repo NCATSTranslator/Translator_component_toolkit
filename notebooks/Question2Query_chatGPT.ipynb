{
 "cells": [
  {
   "cell_type": "markdown",
   "metadata": {},
   "source": [
    "\\\n",
    "## Key steps:\n",
    "### 1. Convert a user's question into a TRAPI json\n",
    "### 2. Validate the TRAPI json format\n",
    "### 3. Refine the TRAPI json format by selecting the similar categories and predicates\n",
    "### 4. ID formating \n",
    "### 5. Query, rank, and visulization"
   ]
  },
  {
   "cell_type": "code",
   "execution_count": null,
   "metadata": {},
   "outputs": [],
   "source": [
    "import sys\n",
    "sys.path.append('../src')\n",
    "import TCT as TCT\n",
    "import seaborn as sns\n",
    "import matplotlib.pyplot as plt\n",
    "import pandas as pd\n",
    "import openai\n",
    "import json\n",
    "import ipywidgets as widgets\n",
    "from IPython.display import display\n",
    "# confidential keys for openAI\n",
    "\n",
    "#replace this with your own confidential key\n",
    "confi = json.loads(open(\"confidential_key.json\").read())\n",
    "\n",
    "openai.organization = confi['Organization']\n",
    "openai.api_key = confi['API_key']\n"
   ]
  },
  {
   "cell_type": "code",
   "execution_count": null,
   "metadata": {},
   "outputs": [],
   "source": [
    "# Step1: List all the APIs in the translator system\n",
    "APInames = TCT.list_Translator_APIs()\n",
    "print(len(APInames))\n",
    "#print(APInames.keys())\n",
    "\n",
    "# Step 2: Get metaKG from Translator APIs\n",
    "metaKG = TCT.get_KP_metadata(APInames) # This only applies to the Translator APIs\n",
    "#print(metaKG.columns)\n",
    "#print(metaKG.shape)\n",
    "\n",
    "metaKG.to_csv('../metaData/metaKG.csv', index=False)\n",
    "metaKG = pd.read_csv('../metaData/metaKG.csv')\n",
    "All_predicates = list(set(metaKG['KG_category']))\n",
    "\n",
    "KG_category = list(set( list(metaKG['Subject'].unique()) + list(metaKG['Object'].unique())))\n",
    "KG_predicates = list(metaKG['KG_category'].unique())\n",
    "\n",
    "# Step 3: Load the query template\n",
    "query_json_temp = TCT.load_json_template()\n",
    "query_json = str(query_json_temp)"
   ]
  },
  {
   "cell_type": "code",
   "execution_count": null,
   "metadata": {},
   "outputs": [],
   "source": [
    "def convert_Question2Query(question):\n",
    "    # formatting query text\n",
    "    input_text = \"We know the avaiable predicates in the KG are: \" + ','.join(list(set(KG_predicates))) + \". We also know the avaiable categories in the KGs are \"+ ','.join(list(set(KG_category))) +\". We also know a TRAPI message temple is \" +query_json+ \". With the question of \" + question + \" What is the json format of message to represent this question? The following rules for the output: 1) The result must be just a json format with the same structure with template; 2)categories should be replaced from the categories in the KG; 3)predicts can be replaced from the predicates in the KG; 4) can use the name to fill the ids; 4)the output must start with '{' and end with '}', and be a standard json format.  At least one ids should be given and No annotations are needed!\"\n",
    "    query_json_cur = TCT.ask_chatGPT4(input_text)\n",
    "    query_json_cur_clean = TCT.extract_json(query_json_cur)\n",
    "    return query_json_cur_clean"
   ]
  },
  {
   "cell_type": "code",
   "execution_count": null,
   "metadata": {},
   "outputs": [],
   "source": [
    "# Example questions\n",
    "question1 = \"What genes or proteins interact with KRAS?\"  #successful running\n",
    "question2 = \"What drugs may treat Type 2 diabetes?\" #successful running\n",
    "question3 = \"what disease we can consider to treat with drug Olaparib?\" #successful running\n",
    "question4 = \"What could be potential targets for ovarian cancer?\" \n",
    "question5 = \"What are the drugs or small moleculaes that target the gene KRAS?\" #successful running\n",
    "question6 = \"What diseases occurence with covid-19?\"  #successful running\n",
    "question7 = \"What symptoms are associated with long covid?\" # no results\n",
    "question8 = \"What genes are associated with aptosis?\"  # successful running\n",
    "question9 = \"What drug increase the risk of liver cancer?\" # not successful, may because of the direction of the edge\n",
    "question10 = \"which drugs are in clinical trial for liver cancer?\"\n"
   ]
  },
  {
   "cell_type": "code",
   "execution_count": null,
   "metadata": {},
   "outputs": [],
   "source": [
    "# Please input your question here\n",
    "question = widgets.Textarea(\n",
    "    value='',\n",
    "    placeholder='Ask a queation to Translator',\n",
    "    description='Question:',\n",
    "    disabled=False,\n",
    "    layout=widgets.Layout(width='80%', height='100px')\n",
    ")\n",
    "display(question)\n"
   ]
  },
  {
   "cell_type": "code",
   "execution_count": null,
   "metadata": {},
   "outputs": [],
   "source": [
    "print(\"The question you asked is : \")\n",
    "print(question.value)\n",
    "question= question.value\n"
   ]
  },
  {
   "cell_type": "code",
   "execution_count": null,
   "metadata": {},
   "outputs": [],
   "source": [
    "query_json_cur_clean = convert_Question2Query(question)\n",
    "query_json_cur_clean"
   ]
  },
  {
   "cell_type": "code",
   "execution_count": null,
   "metadata": {},
   "outputs": [],
   "source": [
    "# add a widget to ask whether a user would like to refine the category or predicate\n",
    "refine_category = widgets.RadioButtons( options=['Yes', 'No'], \n",
    "                                       value='No', \n",
    "                                       description='Refine category?', disabled=False)\n",
    "display(refine_category)\n"
   ]
  },
  {
   "cell_type": "code",
   "execution_count": null,
   "metadata": {},
   "outputs": [],
   "source": [
    "if refine_category.value == 'Yes':\n",
    "\n",
    "    similar_category = TCT.get_similar_category(query_json_cur_clean, KG_category)\n",
    "    #print(TCT.find_similar_category(query_json_cur_clean, KG_category))\n",
    "\n",
    "    # add a widget to select the category for n0\n",
    "    \n",
    "    print(query_json_cur_clean)\n",
    "    category_n1 = widgets.SelectMultiple(\n",
    "            options=similar_category,\n",
    "            value=[],\n",
    "            #rows=10,\n",
    "            description='Node 1',\n",
    "            disabled=False,\n",
    "            layout=widgets.Layout(width='80%', height='300px')\n",
    "        )\n",
    "    display(category_n1)\n",
    "\n",
    "    # add a widget to select the category for n1\n",
    "    category_n2 = widgets.SelectMultiple(\n",
    "        options=similar_category,\n",
    "        value=[],\n",
    "        #rows=10,\n",
    "        description='Node 2',\n",
    "        disabled=False,\n",
    "        layout=widgets.Layout(width='80%', height='300px')\n",
    "    )\n",
    "    display(category_n2)"
   ]
  },
  {
   "cell_type": "code",
   "execution_count": null,
   "metadata": {},
   "outputs": [],
   "source": [
    "# update categories\n",
    "if refine_category.value == 'Yes':\n",
    "    if len(category_n1.value) > 0:\n",
    "        print(\"updated node 1!\")\n",
    "        query_json_cur_clean['message']['query_graph']['nodes']['n0']['categories'] = list(category_n1.value)\n",
    "    if len(category_n2.value) > 0:\n",
    "        print(\"updated node 2!\")\n",
    "        query_json_cur_clean['message']['query_graph']['nodes']['n1']['categories'] = list(category_n2.value)\n",
    "print(query_json_cur_clean)"
   ]
  },
  {
   "cell_type": "code",
   "execution_count": null,
   "metadata": {},
   "outputs": [],
   "source": [
    "# add a widget to ask whether a user would like to refine the category or predicate\n",
    "refine_predicates = widgets.RadioButtons( options=['Yes', 'No'], \n",
    "                                       value='No', \n",
    "                                       description='Refine predicates?', disabled=False)\n",
    "display(refine_predicates)\n"
   ]
  },
  {
   "cell_type": "code",
   "execution_count": null,
   "metadata": {},
   "outputs": [],
   "source": [
    "if refine_predicates.value == 'Yes':\n",
    "    print(question)\n",
    "    print(query_json_cur_clean)\n",
    "    similar_predicate = TCT.get_similar_predicate(query_json_cur_clean, All_predicates)\n",
    "    #print(TCT.find_similar_predicate(query_json_cur_clean, All_predicates))\n",
    "\n",
    "    # add a widget to select the category for n0\n",
    "    predicate_e01 = widgets.SelectMultiple(\n",
    "            options=similar_predicate,\n",
    "            value=[],\n",
    "            #rows=10,\n",
    "            description='Predicates',\n",
    "            disabled=False,\n",
    "            layout=widgets.Layout(width='80%', height='300px')\n",
    "        )\n",
    "    display(predicate_e01)"
   ]
  },
  {
   "cell_type": "code",
   "execution_count": null,
   "metadata": {},
   "outputs": [],
   "source": [
    "# update predicates\n",
    "query_json_cur_clean['message']['query_graph']['edges']['e1']['predicates'] = list(predicate_e01.value)"
   ]
  },
  {
   "cell_type": "code",
   "execution_count": null,
   "metadata": {},
   "outputs": [],
   "source": [
    "# Validate the format of the json\n",
    "print(\"The current json format is: \")\n",
    "print(query_json_cur_clean)\n",
    "TCT.TRAPI_json_validation(query_json_cur_clean, All_predicates, KG_category)"
   ]
  },
  {
   "cell_type": "code",
   "execution_count": null,
   "metadata": {},
   "outputs": [],
   "source": [
    "# id formatting\n",
    "query_json_cur_clean = TCT.format_id(query_json_cur_clean)\n",
    "print(query_json_cur_clean)"
   ]
  },
  {
   "cell_type": "code",
   "execution_count": null,
   "metadata": {},
   "outputs": [],
   "source": [
    "# Step Select APIs\n",
    "input_node1_category = query_json_cur_clean['message']['query_graph']['nodes']['n0']['categories']\n",
    "input_node2_category = query_json_cur_clean['message']['query_graph']['nodes']['n1']['categories']\n",
    "\n",
    "sele_APIs = TCT.select_API(sub_list=input_node1_category,\n",
    "                           obj_list=input_node2_category,\n",
    "                           metaKG=metaKG)\n",
    "\n",
    "print(\"all relevant APIs in Translator:\")\n",
    "print(sele_APIs)\n",
    "print(len(sele_APIs))\n",
    "\n"
   ]
  },
  {
   "cell_type": "code",
   "execution_count": null,
   "metadata": {},
   "outputs": [],
   "source": [
    "# Still need to revise id?\n",
    "#query_json_cur_clean['message']['query_graph']['nodes']['n0']['ids'] = ['MONDO:0008170']"
   ]
  },
  {
   "cell_type": "code",
   "execution_count": null,
   "metadata": {},
   "outputs": [],
   "source": [
    "# get API URLs\n",
    "API_URLs = TCT.get_Translator_API_URL(sele_APIs, \n",
    "                                      APInames)\n",
    "\n",
    "print(API_URLs)\n",
    "# Step 5: Query Translator APIs and parse results\n",
    "result = TCT.parallel_api_query(API_URLs,query_json=query_json_cur_clean, max_workers=len(API_URLs))\n",
    "\n",
    "# Step 6: Parse results\n",
    "result_parsed = TCT.parse_KG(result)\n"
   ]
  },
  {
   "cell_type": "code",
   "execution_count": null,
   "metadata": {},
   "outputs": [],
   "source": [
    "# Step 7: Ranking the results. This ranking method is based on the number of unique primary infores. It can only be used to rank the results with one defined node.\n",
    "input_node1_id = query_json_cur_clean['message']['query_graph']['nodes']['n0']['ids'][0]\n",
    "result_ranked_by_primary_infores = TCT.rank_by_primary_infores(result_parsed, input_node1_id)   # input_node1_id is the curie id of the input node, such as \"NCBIGene:1017\"\n"
   ]
  },
  {
   "cell_type": "code",
   "execution_count": null,
   "metadata": {},
   "outputs": [],
   "source": [
    "# print results \n",
    "print(result_ranked_by_primary_infores.shape)\n",
    "result_ranked_by_primary_infores.head(5)"
   ]
  },
  {
   "cell_type": "code",
   "execution_count": null,
   "metadata": {},
   "outputs": [],
   "source": [
    "# Step 8: Visualize the results\n",
    "TCT.visulization_one_hop_ranking(result_ranked_by_primary_infores, result_parsed, \n",
    "                                num_of_nodes = 30, input_query = input_node1_id, \n",
    "                                fontsize = 10)"
   ]
  }
 ],
 "metadata": {
  "kernelspec": {
   "display_name": "Python 3",
   "language": "python",
   "name": "python3"
  },
  "language_info": {
   "codemirror_mode": {
    "name": "ipython",
    "version": 3
   },
   "file_extension": ".py",
   "mimetype": "text/x-python",
   "name": "python",
   "nbconvert_exporter": "python",
   "pygments_lexer": "ipython3",
   "version": "3.10.0"
  },
  "orig_nbformat": 4
 },
 "nbformat": 4,
 "nbformat_minor": 2
}
