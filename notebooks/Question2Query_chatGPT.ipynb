{
 "cells": [
  {
   "cell_type": "code",
   "execution_count": null,
   "metadata": {},
   "outputs": [],
   "source": [
    "import sys\n",
    "sys.path.append('../src')\n",
    "import TCT as TCT\n",
    "import seaborn as sns\n",
    "import matplotlib.pyplot as plt\n",
    "import pandas as pd\n",
    "import openai\n",
    "import json\n",
    "\n",
    "# confidential keys for openAI\n",
    "confi = json.loads(open(\"confidential_key.json\").read())\n",
    "openai.organization = confi['Organization']\n",
    "openai.api_key = confi['API_key']\n"
   ]
  },
  {
   "cell_type": "code",
   "execution_count": null,
   "metadata": {},
   "outputs": [],
   "source": [
    "# Step1: List all the APIs in the translator system\n",
    "APInames = TCT.list_Translator_APIs()\n",
    "print(len(APInames))\n",
    "#print(APInames.keys())\n",
    "\n",
    "# Step 2: Get metaKG from Translator APIs\n",
    "metaKG = TCT.get_KP_metadata(APInames) # This only applies to the Translator APIs\n",
    "#print(metaKG.columns)\n",
    "#print(metaKG.shape)\n",
    "\n",
    "metaKG.to_csv('../metaData/metaKG.csv', index=False)\n",
    "metaKG = pd.read_csv('../metaData/metaKG.csv')\n",
    "All_predicates = list(set(metaKG['KG_category']))\n",
    "\n",
    "KG_category = list(set( list(metaKG['Subject'].unique()) + list(metaKG['Object'].unique())))\n",
    "KG_predicates = list(metaKG['KG_category'].unique())\n",
    "\n",
    "query_json_temp = TCT.load_json_template()"
   ]
  },
  {
   "cell_type": "code",
   "execution_count": null,
   "metadata": {},
   "outputs": [],
   "source": [
    "question1 = \"What genes or proteins interact with gene KRAS?\"  #success\n",
    "question2 = \"What drugs may treat acute myeloid leukemia?\" #successful running\n",
    "question3 = \"What could be potential targets for ovarian cancer?\" \n",
    "question4 = \"What are the drugs or small moleculaes that target the gene KRAS?\" #successful running\n",
    "question5 = \"What diseases occurence with covid-19?\"  #successful running\n",
    "question6 = \"What symptoms are associated with long covid?\" # no results\n",
    "question7 = \"What genes are associated with aptosis?\"  # successful running\n",
    "\n",
    "\n",
    "question = question7\n",
    "query_json = str(query_json_temp)\n",
    "\n",
    "\n",
    "# formatting query text\n",
    "input_text = \"We know the avaiable predicates in the KG are: \" + ','.join(list(set(KG_predicates))) + \". We also know the avaiable categories in the KGs are \"+ ','.join(list(set(KG_category))) +\". We also know a TRAPI message temple is \" +query_json+ \". With the question of \" + question + \" What is the json format of message to represent this question? The following rules for the output: 1) The result must be just a json format with the same structure with template; 2)categories should be replaced from the categories in the KG; 3)predicts can be replaced from the predicates in the KG; 4) can use the name to fill the ids; 4)the output must start with '{' and end with '}', and be a standard json format.  At least one ids should be given and No annotations are needed!\"\n"
   ]
  },
  {
   "cell_type": "code",
   "execution_count": null,
   "metadata": {},
   "outputs": [],
   "source": [
    "query_json_cur = TCT.ask_chatGPT4(input_text)\n",
    "query_json_cur_clean = TCT.extract_json(query_json_cur)\n",
    "query_json_cur_clean"
   ]
  },
  {
   "cell_type": "code",
   "execution_count": null,
   "metadata": {},
   "outputs": [],
   "source": [
    "TCT.TRAPI_json_validation(query_json_cur_clean, All_predicates, KG_category)"
   ]
  },
  {
   "cell_type": "code",
   "execution_count": null,
   "metadata": {},
   "outputs": [],
   "source": [
    "print(TCT.find_similar_category(query_json_cur_clean, KG_category))"
   ]
  },
  {
   "cell_type": "code",
   "execution_count": null,
   "metadata": {},
   "outputs": [],
   "source": [
    "n1_predictes = ['biolink:Gene', 'biolink:Protein']"
   ]
  },
  {
   "cell_type": "code",
   "execution_count": null,
   "metadata": {},
   "outputs": [],
   "source": [
    "print(TCT.find_similar_predicates(query_json_cur_clean, All_predicates))"
   ]
  },
  {
   "cell_type": "code",
   "execution_count": null,
   "metadata": {},
   "outputs": [],
   "source": [
    "selected_predicates = ['biolink:has_participant', 'biolink:related_to',\n",
    "                       'biolink:has_real_world_evidence_of_association_with',\n",
    "                       'biolink:occurs_together_in_literature_with',\n",
    "                        'biolink:associated_with',\n",
    "                       ]\n",
    "\n"
   ]
  },
  {
   "cell_type": "code",
   "execution_count": null,
   "metadata": {},
   "outputs": [],
   "source": [
    "# predicates and category formatting\n",
    "query_json_cur_clean['message']['query_graph']['edges']['e1']['predicates'] = selected_predicates\n",
    "query_json_cur_clean['message']['query_graph']['nodes']['n1']['categories'] = n1_predictes\n"
   ]
  },
  {
   "cell_type": "code",
   "execution_count": null,
   "metadata": {},
   "outputs": [],
   "source": [
    "# id formatting\n",
    "query_json_cur_clean = TCT.format_id(query_json_cur_clean)\n",
    "print(query_json_cur_clean)"
   ]
  },
  {
   "cell_type": "code",
   "execution_count": null,
   "metadata": {},
   "outputs": [],
   "source": [
    "# Step Select APIs\n",
    "input_node1_category = query_json_cur_clean['message']['query_graph']['nodes']['n0']['categories']\n",
    "input_node2_category = query_json_cur_clean['message']['query_graph']['nodes']['n1']['categories']\n",
    "\n",
    "sele_APIs = TCT.select_API(sub_list=input_node1_category,\n",
    "                           obj_list=input_node2_category,\n",
    "                           metaKG=metaKG)\n",
    "\n",
    "print(\"all relevant APIs in Translator:\")\n",
    "print(sele_APIs)\n",
    "print(len(sele_APIs))\n",
    "\n",
    "# get API URLs\n",
    "API_URLs = TCT.get_Translator_API_URL(sele_APIs, \n",
    "                                      APInames)\n",
    "\n",
    "# Step 5: Query Translator APIs and parse results\n",
    "result = TCT.parallel_api_query(API_URLs,query_json=query_json_cur_clean, max_workers=len(API_URLs))\n",
    "\n",
    "# Step 6: Parse results\n",
    "result_parsed = TCT.parse_KG(result)\n"
   ]
  },
  {
   "cell_type": "code",
   "execution_count": null,
   "metadata": {},
   "outputs": [],
   "source": [
    "input_node1_id = query_json_cur_clean['message']['query_graph']['nodes']['n0']['ids'][0]\n",
    "\n",
    "# Step 7: Ranking the results. This ranking method is based on the number of unique primary infores. It can only be used to rank the results with one defined node.\n",
    "result_ranked_by_primary_infores = TCT.rank_by_primary_infores(result_parsed, input_node1_id)   # input_node1_id is the curie id of the input node, such as \"NCBIGene:1017\"\n"
   ]
  },
  {
   "cell_type": "code",
   "execution_count": null,
   "metadata": {},
   "outputs": [],
   "source": [
    "# print results \n",
    "print(result_ranked_by_primary_infores.shape)\n",
    "result_ranked_by_primary_infores.head(5)"
   ]
  },
  {
   "cell_type": "code",
   "execution_count": null,
   "metadata": {},
   "outputs": [],
   "source": [
    "# Step 8: Visualize the results\n",
    "TCT.visulization_one_hop_ranking(result_ranked_by_primary_infores, result_parsed, \n",
    "                                num_of_nodes = 30, input_query = input_node1_id, \n",
    "                                fontsize = 10)"
   ]
  }
 ],
 "metadata": {
  "kernelspec": {
   "display_name": "Python 3",
   "language": "python",
   "name": "python3"
  },
  "language_info": {
   "codemirror_mode": {
    "name": "ipython",
    "version": 3
   },
   "file_extension": ".py",
   "mimetype": "text/x-python",
   "name": "python",
   "nbconvert_exporter": "python",
   "pygments_lexer": "ipython3",
   "version": "3.10.0"
  },
  "orig_nbformat": 4
 },
 "nbformat": 4,
 "nbformat_minor": 2
}
